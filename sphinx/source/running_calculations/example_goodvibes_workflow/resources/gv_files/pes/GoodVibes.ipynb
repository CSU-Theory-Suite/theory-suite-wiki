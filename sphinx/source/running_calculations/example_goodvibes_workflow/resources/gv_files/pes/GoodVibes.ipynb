{
 "cells": [
  {
   "cell_type": "code",
   "execution_count": null,
   "id": "8801ce77-8c7f-4279-8390-fc63d8c1aa92",
   "metadata": {},
   "outputs": [],
   "source": [
    "#Unit Conversion\n",
    "HARTREE_TO_KCAL_MOL = 627.5  # 1 hartree = 627.5 kcal/mol"
   ]
  },
  {
   "attachments": {},
   "cell_type": "markdown",
   "id": "fdc3e230-0afc-484c-a87d-0b21f6f7af07",
   "metadata": {},
   "source": [
    "# GoodVibes Tutorial\n",
    "\n",
    "[GoodVibes GitHub Page](https://github.com/patonlab/GoodVibes/)\n",
    "\n",
    "[Article](https://doi.org/10.12688/f1000research.22758.1)\n",
    "\n",
    "\n",
    "### Installation:\n",
    "\n",
    "Version 3.2 is most up to date\n",
    "\n",
    "```\n",
    "pip install goodvibes\n",
    "```\n",
    "or\n",
    "```\n",
    "pip install --upgrade goodvibes\n",
    "```\n",
    "(may also need to install matplotlib) \n"
   ]
  },
  {
   "cell_type": "raw",
   "id": "facdd805-202e-4460-8621-b3484eac25e4",
   "metadata": {},
   "source": [
    "pip install --upgrade goodvibes"
   ]
  },
  {
   "cell_type": "markdown",
   "id": "c3d7a1cd-afa1-48a2-96b1-a7335f994a3f",
   "metadata": {},
   "source": [
    "### Computing thermochemistry for QM output files:\n",
    "From the `gv_files` folder\n",
    "\n",
    "(Copy and paste the following lines into the command line)"
   ]
  },
  {
   "cell_type": "raw",
   "id": "b6fb8ee1-52d7-4550-ad76-fd8e43aa0f8a",
   "metadata": {},
   "source": [
    "python -m goodvibes H2O.log"
   ]
  },
  {
   "attachments": {},
   "cell_type": "markdown",
   "id": "c6eb7710-a574-47c7-8b9c-f52daeb2429e",
   "metadata": {
    "tags": []
   },
   "source": [
    "Grabs Energy, frequencies and computes thermochemical values Enthalpy (H), Entropy (S), Gibbs Free-Energy (G) along with quasi-harmonic corrected Entropy (qh-S) and Free-Energy (qh-G)\n",
    "\n",
    "\n",
    "Compute G as `G = H - T*S`\n",
    "### Temperature\n",
    "\n",
    "GoodVibes default temperature is `298.15 K` (25C)\n",
    "\n",
    "What if the reaction is run at 100C? "
   ]
  },
  {
   "cell_type": "raw",
   "id": "b3faa310-9ef0-46e9-86cb-6b462bcee935",
   "metadata": {},
   "source": [
    "python -m goodvibes benzene.log -t 373.15"
   ]
  },
  {
   "attachments": {},
   "cell_type": "markdown",
   "id": "c89d6ff9-637a-48cd-8748-3d177b6fb059",
   "metadata": {},
   "source": [
    "GoodVibes can also compute temperature ranges "
   ]
  },
  {
   "cell_type": "raw",
   "id": "2e1783d5-b4d1-439d-8aac-adff30c43869",
   "metadata": {},
   "source": [
    "python -m goodvibes benzene.log H2O.log --ti 250,400,50"
   ]
  },
  {
   "cell_type": "markdown",
   "id": "c54992e2-697d-4115-9ede-d285edd44e09",
   "metadata": {},
   "source": [
    "# Quasi-Harmonic Corrections\n",
    "\n",
    "<center><img src=\"qhS.png\" alt=\"quasi-harmonic entropy\" width=\"600\"/></center>\n",
    "\n",
    "The quasi-harmonic correction has a greater effect when molecules have a greater number of low-frequency vibrational modes.\n",
    "\n",
    "* Methylaniline : 2 vibrational modes below 200cm-1\n",
    "\n",
    "* Int-III : 23 vibrational modes below 200cm-1"
   ]
  },
  {
   "cell_type": "raw",
   "id": "590eea15-d006-480b-8834-e327a1df71ce",
   "metadata": {},
   "source": [
    "python -m goodvibes methylaniline.log Int-III.log"
   ]
  },
  {
   "cell_type": "markdown",
   "id": "6d2bc060-3665-4ed6-aea3-39d51e2c770d",
   "metadata": {},
   "source": [
    "In each case, by how many kcals/mol does the quasi-harmonic correction differ from the uncorrected value??"
   ]
  },
  {
   "cell_type": "code",
   "execution_count": null,
   "id": "8bc8a4e6-ee23-4184-929c-709374fb6e02",
   "metadata": {},
   "outputs": [],
   "source": [
    "# convert values here "
   ]
  },
  {
   "cell_type": "markdown",
   "id": "a4f494f9-0b2e-4d98-a523-af625ffd0620",
   "metadata": {},
   "source": [
    "### Single Point Calculations\n",
    "\n",
    "Useful for saving on computational resources:\n",
    "\n",
    "We can optimize molecules at a lower level of theory to still obtain an accurate geometry, but do a single point energy calculation (SPC) at a higher level of theory to obtain more accurate energy values. \n",
    "\n",
    "with the `--spc` argument, we can specify how the SPC file names are formatted\n",
    "\n",
    "\n",
    "| Calculation Type | Filename    |\n",
    "| -----------      | ----------- |\n",
    "| opt/freq         | file.log    | \n",
    "| spc              | file_SPC.log|\n",
    "\n",
    "For example: `ethane.log` and `ethane_TZ.out`"
   ]
  },
  {
   "cell_type": "raw",
   "id": "16e17507-c4f1-46da-82fa-69df2aff4591",
   "metadata": {},
   "source": [
    "python -m goodvibes ethane.log --spc TZ"
   ]
  },
  {
   "cell_type": "markdown",
   "id": "0fe7713c-a866-4ad6-9d68-01fd4aaec82e",
   "metadata": {},
   "source": [
    "### Potential Energy Surface Calculations!\n",
    "\n",
    "GoodVibes can compute relative energy/thermochemistry values to describe a reaction pathway with a potential energy surface\n",
    "\n",
    "To do this we need to write a yaml file with 3 sections:\n",
    "* PES\n",
    "    - Defines reaction pathway\n",
    "    - Can add multiple pathways\n",
    "* SPECIES\n",
    "    - Relates files to each species in the reaction pathway \n",
    "* FORMAT\n",
    "    - Optional additional formatting "
   ]
  },
  {
   "cell_type": "code",
   "execution_count": null,
   "id": "f3143ef3-6ca0-4f2a-8028-d77e46df4f95",
   "metadata": {},
   "outputs": [],
   "source": [
    "!cat gv_files/pes/PhPy.yaml"
   ]
  },
  {
   "cell_type": "markdown",
   "id": "1f251ecd-3576-4ad6-8632-7c8972ac8b19",
   "metadata": {},
   "source": [
    "Putting it all together - \n",
    "\n",
    "* Temperature adjustments\n",
    "* Single Point Calculations\n",
    "* Potential Energy Surface Calculations\n",
    "\n",
    "24 Intermediate and transition state caclulations + corresponding SPC files + yaml to define reaction pathway"
   ]
  },
  {
   "cell_type": "raw",
   "id": "2a983556-3189-42bf-91d0-6e832f8610ef",
   "metadata": {},
   "source": [
    "python -m goodvibes *.log -t 353.15 --spc DLPNO --imag --invertifreq -5 --pes PhPy.yaml"
   ]
  },
  {
   "cell_type": "markdown",
   "id": "18ddd404-466c-4ed4-ad94-1f0a2f9f3fb9",
   "metadata": {},
   "source": [
    "Graphing these potential energy surfaces is simple once the yaml is created"
   ]
  },
  {
   "cell_type": "raw",
   "id": "dbf3b983-3a78-4678-a10c-aa603bca2d7e",
   "metadata": {},
   "source": [
    "python -m goodvibes *.log -t 353.15 --spc DLPNO --imag --invertifreq -5 --pes PhPy.yaml --graph PhPy.yaml"
   ]
  },
  {
   "cell_type": "code",
   "execution_count": null,
   "id": "539bad07-7549-4f3d-96b6-62cfb59f9fc0",
   "metadata": {},
   "outputs": [],
   "source": []
  },
  {
   "cell_type": "markdown",
   "id": "9e3b9847-3988-4759-a58d-809da072fd58",
   "metadata": {},
   "source": [
    "Check out other packages by our lab @ our [github](https://github.com/patonlab) "
   ]
  }
 ],
 "metadata": {
  "kernelspec": {
   "display_name": "datasci",
   "language": "python",
   "name": "python3"
  },
  "language_info": {
   "codemirror_mode": {
    "name": "ipython",
    "version": 3
   },
   "file_extension": ".py",
   "mimetype": "text/x-python",
   "name": "python",
   "nbconvert_exporter": "python",
   "pygments_lexer": "ipython3",
   "version": "3.10.8"
  },
  "vscode": {
   "interpreter": {
    "hash": "ce793031578b33a9f72704fa95825335cbc8fc169c4bdf28351f22c641034fbf"
   }
  }
 },
 "nbformat": 4,
 "nbformat_minor": 5
}
